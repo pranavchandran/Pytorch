{
 "cells": [
  {
   "cell_type": "code",
   "execution_count": 1,
   "metadata": {},
   "outputs": [],
   "source": [
    "import torch\n",
    "import torch.nn as nn # Neaural network\n",
    "import torch.nn.functional as F"
   ]
  },
  {
   "cell_type": "code",
   "execution_count": 2,
   "metadata": {},
   "outputs": [
    {
     "name": "stdout",
     "output_type": "stream",
     "text": [
      "cuda\n"
     ]
    }
   ],
   "source": [
    "# find the cuda\n",
    "device = torch.device(\"cuda\" if torch.cuda.is_available() else \"cpu\")\n",
    "print(device)"
   ]
  },
  {
   "cell_type": "code",
   "execution_count": 3,
   "metadata": {},
   "outputs": [],
   "source": [
    "class Model(nn.Module): # Propogation\n",
    "    def __init__(self, in_features=4, # how many layers coming in (Features)\n",
    "                 h1=8,\n",
    "                 h2=9,\n",
    "                 out_features=3,\n",
    "                 device=device\n",
    "                 ):\n",
    "        super().__init__()\n",
    "        self.fc1 = nn.Linear(in_features, h1) # Fully connectivity layer\n",
    "        self.fc2 = nn.Linear(h1, h2)\n",
    "        self.out = nn.Linear(h2, out_features)\n",
    "\n",
    "    def forward(self, x):\n",
    "        x = F.relu(self.fc1(x)) # Activation function\n",
    "        x = F.relu(self.fc2(x))\n",
    "        x = self.out(x)\n",
    "        return x"
   ]
  },
  {
   "cell_type": "code",
   "execution_count": 4,
   "metadata": {},
   "outputs": [],
   "source": [
    "# instantiate model\n",
    "torch.manual_seed(32)\n",
    "model = Model()"
   ]
  },
  {
   "cell_type": "code",
   "execution_count": 5,
   "metadata": {},
   "outputs": [],
   "source": [
    "import pandas as pd\n",
    "import matplotlib.pyplot as plt"
   ]
  },
  {
   "cell_type": "code",
   "execution_count": 6,
   "metadata": {},
   "outputs": [],
   "source": [
    "df = pd.read_csv('./Data/Iris.csv')"
   ]
  },
  {
   "cell_type": "code",
   "execution_count": 7,
   "metadata": {},
   "outputs": [
    {
     "data": {
      "text/html": [
       "<div>\n",
       "<style scoped>\n",
       "    .dataframe tbody tr th:only-of-type {\n",
       "        vertical-align: middle;\n",
       "    }\n",
       "\n",
       "    .dataframe tbody tr th {\n",
       "        vertical-align: top;\n",
       "    }\n",
       "\n",
       "    .dataframe thead th {\n",
       "        text-align: right;\n",
       "    }\n",
       "</style>\n",
       "<table border=\"1\" class=\"dataframe\">\n",
       "  <thead>\n",
       "    <tr style=\"text-align: right;\">\n",
       "      <th></th>\n",
       "      <th>Id</th>\n",
       "      <th>SepalLengthCm</th>\n",
       "      <th>SepalWidthCm</th>\n",
       "      <th>PetalLengthCm</th>\n",
       "      <th>PetalWidthCm</th>\n",
       "      <th>Species</th>\n",
       "    </tr>\n",
       "  </thead>\n",
       "  <tbody>\n",
       "    <tr>\n",
       "      <th>0</th>\n",
       "      <td>1</td>\n",
       "      <td>5.1</td>\n",
       "      <td>3.5</td>\n",
       "      <td>1.4</td>\n",
       "      <td>0.2</td>\n",
       "      <td>Iris-setosa</td>\n",
       "    </tr>\n",
       "    <tr>\n",
       "      <th>1</th>\n",
       "      <td>2</td>\n",
       "      <td>4.9</td>\n",
       "      <td>3.0</td>\n",
       "      <td>1.4</td>\n",
       "      <td>0.2</td>\n",
       "      <td>Iris-setosa</td>\n",
       "    </tr>\n",
       "    <tr>\n",
       "      <th>2</th>\n",
       "      <td>3</td>\n",
       "      <td>4.7</td>\n",
       "      <td>3.2</td>\n",
       "      <td>1.3</td>\n",
       "      <td>0.2</td>\n",
       "      <td>Iris-setosa</td>\n",
       "    </tr>\n",
       "    <tr>\n",
       "      <th>3</th>\n",
       "      <td>4</td>\n",
       "      <td>4.6</td>\n",
       "      <td>3.1</td>\n",
       "      <td>1.5</td>\n",
       "      <td>0.2</td>\n",
       "      <td>Iris-setosa</td>\n",
       "    </tr>\n",
       "    <tr>\n",
       "      <th>4</th>\n",
       "      <td>5</td>\n",
       "      <td>5.0</td>\n",
       "      <td>3.6</td>\n",
       "      <td>1.4</td>\n",
       "      <td>0.2</td>\n",
       "      <td>Iris-setosa</td>\n",
       "    </tr>\n",
       "  </tbody>\n",
       "</table>\n",
       "</div>"
      ],
      "text/plain": [
       "   Id  SepalLengthCm  SepalWidthCm  PetalLengthCm  PetalWidthCm      Species\n",
       "0   1            5.1           3.5            1.4           0.2  Iris-setosa\n",
       "1   2            4.9           3.0            1.4           0.2  Iris-setosa\n",
       "2   3            4.7           3.2            1.3           0.2  Iris-setosa\n",
       "3   4            4.6           3.1            1.5           0.2  Iris-setosa\n",
       "4   5            5.0           3.6            1.4           0.2  Iris-setosa"
      ]
     },
     "execution_count": 7,
     "metadata": {},
     "output_type": "execute_result"
    }
   ],
   "source": [
    "df.head()"
   ]
  },
  {
   "cell_type": "code",
   "execution_count": 8,
   "metadata": {},
   "outputs": [
    {
     "data": {
      "text/plain": [
       "array(['Iris-setosa', 'Iris-versicolor', 'Iris-virginica'], dtype=object)"
      ]
     },
     "execution_count": 8,
     "metadata": {},
     "output_type": "execute_result"
    }
   ],
   "source": [
    "df['Species'].unique() # checking how many out features we have"
   ]
  },
  {
   "cell_type": "code",
   "execution_count": 9,
   "metadata": {},
   "outputs": [],
   "source": [
    "df['target'] = df['Species'].map({ # map helps to give the target\n",
    "    'Iris-setosa':0,\n",
    "    'Iris-versicolor':1,\n",
    "    'Iris-virginica':2\n",
    "})"
   ]
  },
  {
   "cell_type": "code",
   "execution_count": 10,
   "metadata": {},
   "outputs": [
    {
     "data": {
      "text/plain": [
       "array([0, 1, 2], dtype=int64)"
      ]
     },
     "execution_count": 10,
     "metadata": {},
     "output_type": "execute_result"
    }
   ],
   "source": [
    "df['target'].unique()"
   ]
  },
  {
   "cell_type": "code",
   "execution_count": 11,
   "metadata": {},
   "outputs": [],
   "source": [
    "# Species removed from df\n",
    "if 'Id' in df.columns:\n",
    "    df.drop(columns=['Id'],axis=1,inplace=True)\n",
    "if 'Species' in df.columns:\n",
    "    df.drop(columns=['Species'],axis=1,inplace=True)"
   ]
  },
  {
   "cell_type": "code",
   "execution_count": 12,
   "metadata": {},
   "outputs": [
    {
     "data": {
      "text/html": [
       "<div>\n",
       "<style scoped>\n",
       "    .dataframe tbody tr th:only-of-type {\n",
       "        vertical-align: middle;\n",
       "    }\n",
       "\n",
       "    .dataframe tbody tr th {\n",
       "        vertical-align: top;\n",
       "    }\n",
       "\n",
       "    .dataframe thead th {\n",
       "        text-align: right;\n",
       "    }\n",
       "</style>\n",
       "<table border=\"1\" class=\"dataframe\">\n",
       "  <thead>\n",
       "    <tr style=\"text-align: right;\">\n",
       "      <th></th>\n",
       "      <th>SepalLengthCm</th>\n",
       "      <th>SepalWidthCm</th>\n",
       "      <th>PetalLengthCm</th>\n",
       "      <th>PetalWidthCm</th>\n",
       "      <th>target</th>\n",
       "    </tr>\n",
       "  </thead>\n",
       "  <tbody>\n",
       "    <tr>\n",
       "      <th>149</th>\n",
       "      <td>5.9</td>\n",
       "      <td>3.0</td>\n",
       "      <td>5.1</td>\n",
       "      <td>1.8</td>\n",
       "      <td>2</td>\n",
       "    </tr>\n",
       "  </tbody>\n",
       "</table>\n",
       "</div>"
      ],
      "text/plain": [
       "     SepalLengthCm  SepalWidthCm  PetalLengthCm  PetalWidthCm  target\n",
       "149            5.9           3.0            5.1           1.8       2"
      ]
     },
     "execution_count": 12,
     "metadata": {},
     "output_type": "execute_result"
    }
   ],
   "source": [
    "df.tail(1)"
   ]
  },
  {
   "cell_type": "code",
   "execution_count": 14,
   "metadata": {},
   "outputs": [
    {
     "ename": "AttributeError",
     "evalue": "'function' object has no attribute 'legend_elements'",
     "output_type": "error",
     "traceback": [
      "\u001b[1;31m---------------------------------------------------------------------------\u001b[0m",
      "\u001b[1;31mAttributeError\u001b[0m                            Traceback (most recent call last)",
      "Cell \u001b[1;32mIn[14], line 9\u001b[0m\n\u001b[0;32m      7\u001b[0m \u001b[38;5;66;03m# Add legend\u001b[39;00m\n\u001b[0;32m      8\u001b[0m legend_labels \u001b[38;5;241m=\u001b[39m [\u001b[38;5;124m'\u001b[39m\u001b[38;5;124mIris-setosa\u001b[39m\u001b[38;5;124m'\u001b[39m, \u001b[38;5;124m'\u001b[39m\u001b[38;5;124mIris-versicolor\u001b[39m\u001b[38;5;124m'\u001b[39m, \u001b[38;5;124m'\u001b[39m\u001b[38;5;124mIris-virginica\u001b[39m\u001b[38;5;124m'\u001b[39m]\n\u001b[1;32m----> 9\u001b[0m plt\u001b[38;5;241m.\u001b[39mlegend(handles\u001b[38;5;241m=\u001b[39m\u001b[43mplt\u001b[49m\u001b[38;5;241;43m.\u001b[39;49m\u001b[43mscatter\u001b[49m\u001b[38;5;241;43m.\u001b[39;49m\u001b[43mlegend_elements\u001b[49m()[\u001b[38;5;241m0\u001b[39m], labels\u001b[38;5;241m=\u001b[39mlegend_labels)\n\u001b[0;32m     11\u001b[0m plt\u001b[38;5;241m.\u001b[39mcolorbar()\n\u001b[0;32m     12\u001b[0m plt\u001b[38;5;241m.\u001b[39mshow()\n",
      "\u001b[1;31mAttributeError\u001b[0m: 'function' object has no attribute 'legend_elements'"
     ]
    },
    {
     "data": {
      "image/png": "[encoded data removed]",
      "text/plain": [
       "<Figure size 640x480 with 1 Axes>"
      ]
     },
     "metadata": {},
     "output_type": "display_data"
    }
   ],
   "source": [
    "# Create a plot with matplotlib\n",
    "plt.scatter(df['PetalLengthCm'], df['PetalWidthCm'], c=df['target'])\n",
    "plt.xlabel('Petal Length (cm)')\n",
    "plt.ylabel('Petal Width (cm)')\n",
    "plt.title('Iris Flower Classification')\n",
    "\n",
    "# Add legend\n",
    "legend_labels = ['Iris-setosa', 'Iris-versicolor', 'Iris-virginica']\n",
    "plt.legend(handles=plt.scatter.legend_elements()[0], labels=legend_labels)\n",
    "\n",
    "plt.colorbar()\n",
    "plt.show()"
   ]
  },
  {
   "cell_type": "code",
   "execution_count": 15,
   "metadata": {},
   "outputs": [],
   "source": [
    "X = df.drop('target', axis=1)\n",
    "y = df['target']"
   ]
  },
  {
   "cell_type": "code",
   "execution_count": 16,
   "metadata": {},
   "outputs": [
    {
     "data": {
      "text/html": [
       "<div>\n",
       "<style scoped>\n",
       "    .dataframe tbody tr th:only-of-type {\n",
       "        vertical-align: middle;\n",
       "    }\n",
       "\n",
       "    .dataframe tbody tr th {\n",
       "        vertical-align: top;\n",
       "    }\n",
       "\n",
       "    .dataframe thead th {\n",
       "        text-align: right;\n",
       "    }\n",
       "</style>\n",
       "<table border=\"1\" class=\"dataframe\">\n",
       "  <thead>\n",
       "    <tr style=\"text-align: right;\">\n",
       "      <th></th>\n",
       "      <th>SepalLengthCm</th>\n",
       "      <th>SepalWidthCm</th>\n",
       "      <th>PetalLengthCm</th>\n",
       "      <th>PetalWidthCm</th>\n",
       "    </tr>\n",
       "  </thead>\n",
       "  <tbody>\n",
       "    <tr>\n",
       "      <th>0</th>\n",
       "      <td>5.1</td>\n",
       "      <td>3.5</td>\n",
       "      <td>1.4</td>\n",
       "      <td>0.2</td>\n",
       "    </tr>\n",
       "    <tr>\n",
       "      <th>1</th>\n",
       "      <td>4.9</td>\n",
       "      <td>3.0</td>\n",
       "      <td>1.4</td>\n",
       "      <td>0.2</td>\n",
       "    </tr>\n",
       "    <tr>\n",
       "      <th>2</th>\n",
       "      <td>4.7</td>\n",
       "      <td>3.2</td>\n",
       "      <td>1.3</td>\n",
       "      <td>0.2</td>\n",
       "    </tr>\n",
       "    <tr>\n",
       "      <th>3</th>\n",
       "      <td>4.6</td>\n",
       "      <td>3.1</td>\n",
       "      <td>1.5</td>\n",
       "      <td>0.2</td>\n",
       "    </tr>\n",
       "    <tr>\n",
       "      <th>4</th>\n",
       "      <td>5.0</td>\n",
       "      <td>3.6</td>\n",
       "      <td>1.4</td>\n",
       "      <td>0.2</td>\n",
       "    </tr>\n",
       "    <tr>\n",
       "      <th>...</th>\n",
       "      <td>...</td>\n",
       "      <td>...</td>\n",
       "      <td>...</td>\n",
       "      <td>...</td>\n",
       "    </tr>\n",
       "    <tr>\n",
       "      <th>145</th>\n",
       "      <td>6.7</td>\n",
       "      <td>3.0</td>\n",
       "      <td>5.2</td>\n",
       "      <td>2.3</td>\n",
       "    </tr>\n",
       "    <tr>\n",
       "      <th>146</th>\n",
       "      <td>6.3</td>\n",
       "      <td>2.5</td>\n",
       "      <td>5.0</td>\n",
       "      <td>1.9</td>\n",
       "    </tr>\n",
       "    <tr>\n",
       "      <th>147</th>\n",
       "      <td>6.5</td>\n",
       "      <td>3.0</td>\n",
       "      <td>5.2</td>\n",
       "      <td>2.0</td>\n",
       "    </tr>\n",
       "    <tr>\n",
       "      <th>148</th>\n",
       "      <td>6.2</td>\n",
       "      <td>3.4</td>\n",
       "      <td>5.4</td>\n",
       "      <td>2.3</td>\n",
       "    </tr>\n",
       "    <tr>\n",
       "      <th>149</th>\n",
       "      <td>5.9</td>\n",
       "      <td>3.0</td>\n",
       "      <td>5.1</td>\n",
       "      <td>1.8</td>\n",
       "    </tr>\n",
       "  </tbody>\n",
       "</table>\n",
       "<p>150 rows × 4 columns</p>\n",
       "</div>"
      ],
      "text/plain": [
       "     SepalLengthCm  SepalWidthCm  PetalLengthCm  PetalWidthCm\n",
       "0              5.1           3.5            1.4           0.2\n",
       "1              4.9           3.0            1.4           0.2\n",
       "2              4.7           3.2            1.3           0.2\n",
       "3              4.6           3.1            1.5           0.2\n",
       "4              5.0           3.6            1.4           0.2\n",
       "..             ...           ...            ...           ...\n",
       "145            6.7           3.0            5.2           2.3\n",
       "146            6.3           2.5            5.0           1.9\n",
       "147            6.5           3.0            5.2           2.0\n",
       "148            6.2           3.4            5.4           2.3\n",
       "149            5.9           3.0            5.1           1.8\n",
       "\n",
       "[150 rows x 4 columns]"
      ]
     },
     "execution_count": 16,
     "metadata": {},
     "output_type": "execute_result"
    }
   ],
   "source": [
    "X"
   ]
  },
  {
   "cell_type": "code",
   "execution_count": 17,
   "metadata": {},
   "outputs": [
    {
     "data": {
      "text/plain": [
       "pandas.core.series.Series"
      ]
     },
     "execution_count": 17,
     "metadata": {},
     "output_type": "execute_result"
    }
   ],
   "source": [
    "type(y)"
   ]
  },
  {
   "cell_type": "code",
   "execution_count": 18,
   "metadata": {},
   "outputs": [],
   "source": [
    "# convert to numpy arrays\n",
    "X = X.values\n",
    "y = y.values"
   ]
  },
  {
   "cell_type": "code",
   "execution_count": 19,
   "metadata": {},
   "outputs": [
    {
     "data": {
      "text/plain": [
       "array([[5.1, 3.5, 1.4, 0.2],\n",
       "       [4.9, 3. , 1.4, 0.2],\n",
       "       [4.7, 3.2, 1.3, 0.2],\n",
       "       [4.6, 3.1, 1.5, 0.2],\n",
       "       [5. , 3.6, 1.4, 0.2],\n",
       "       [5.4, 3.9, 1.7, 0.4],\n",
       "       [4.6, 3.4, 1.4, 0.3],\n",
       "       [5. , 3.4, 1.5, 0.2],\n",
       "       [4.4, 2.9, 1.4, 0.2],\n",
       "       [4.9, 3.1, 1.5, 0.1],\n",
       "       [5.4, 3.7, 1.5, 0.2],\n",
       "       [4.8, 3.4, 1.6, 0.2],\n",
       "       [4.8, 3. , 1.4, 0.1],\n",
       "       [4.3, 3. , 1.1, 0.1],\n",
       "       [5.8, 4. , 1.2, 0.2],\n",
       "       [5.7, 4.4, 1.5, 0.4],\n",
       "       [5.4, 3.9, 1.3, 0.4],\n",
       "       [5.1, 3.5, 1.4, 0.3],\n",
       "       [5.7, 3.8, 1.7, 0.3],\n",
       "       [5.1, 3.8, 1.5, 0.3],\n",
       "       [5.4, 3.4, 1.7, 0.2],\n",
       "       [5.1, 3.7, 1.5, 0.4],\n",
       "       [4.6, 3.6, 1. , 0.2],\n",
       "       [5.1, 3.3, 1.7, 0.5],\n",
       "       [4.8, 3.4, 1.9, 0.2],\n",
       "       [5. , 3. , 1.6, 0.2],\n",
       "       [5. , 3.4, 1.6, 0.4],\n",
       "       [5.2, 3.5, 1.5, 0.2],\n",
       "       [5.2, 3.4, 1.4, 0.2],\n",
       "       [4.7, 3.2, 1.6, 0.2],\n",
       "       [4.8, 3.1, 1.6, 0.2],\n",
       "       [5.4, 3.4, 1.5, 0.4],\n",
       "       [5.2, 4.1, 1.5, 0.1],\n",
       "       [5.5, 4.2, 1.4, 0.2],\n",
       "       [4.9, 3.1, 1.5, 0.1],\n",
       "       [5. , 3.2, 1.2, 0.2],\n",
       "       [5.5, 3.5, 1.3, 0.2],\n",
       "       [4.9, 3.1, 1.5, 0.1],\n",
       "       [4.4, 3. , 1.3, 0.2],\n",
       "       [5.1, 3.4, 1.5, 0.2],\n",
       "       [5. , 3.5, 1.3, 0.3],\n",
       "       [4.5, 2.3, 1.3, 0.3],\n",
       "       [4.4, 3.2, 1.3, 0.2],\n",
       "       [5. , 3.5, 1.6, 0.6],\n",
       "       [5.1, 3.8, 1.9, 0.4],\n",
       "       [4.8, 3. , 1.4, 0.3],\n",
       "       [5.1, 3.8, 1.6, 0.2],\n",
       "       [4.6, 3.2, 1.4, 0.2],\n",
       "       [5.3, 3.7, 1.5, 0.2],\n",
       "       [5. , 3.3, 1.4, 0.2],\n",
       "       [7. , 3.2, 4.7, 1.4],\n",
       "       [6.4, 3.2, 4.5, 1.5],\n",
       "       [6.9, 3.1, 4.9, 1.5],\n",
       "       [5.5, 2.3, 4. , 1.3],\n",
       "       [6.5, 2.8, 4.6, 1.5],\n",
       "       [5.7, 2.8, 4.5, 1.3],\n",
       "       [6.3, 3.3, 4.7, 1.6],\n",
       "       [4.9, 2.4, 3.3, 1. ],\n",
       "       [6.6, 2.9, 4.6, 1.3],\n",
       "       [5.2, 2.7, 3.9, 1.4],\n",
       "       [5. , 2. , 3.5, 1. ],\n",
       "       [5.9, 3. , 4.2, 1.5],\n",
       "       [6. , 2.2, 4. , 1. ],\n",
       "       [6.1, 2.9, 4.7, 1.4],\n",
       "       [5.6, 2.9, 3.6, 1.3],\n",
       "       [6.7, 3.1, 4.4, 1.4],\n",
       "       [5.6, 3. , 4.5, 1.5],\n",
       "       [5.8, 2.7, 4.1, 1. ],\n",
       "       [6.2, 2.2, 4.5, 1.5],\n",
       "       [5.6, 2.5, 3.9, 1.1],\n",
       "       [5.9, 3.2, 4.8, 1.8],\n",
       "       [6.1, 2.8, 4. , 1.3],\n",
       "       [6.3, 2.5, 4.9, 1.5],\n",
       "       [6.1, 2.8, 4.7, 1.2],\n",
       "       [6.4, 2.9, 4.3, 1.3],\n",
       "       [6.6, 3. , 4.4, 1.4],\n",
       "       [6.8, 2.8, 4.8, 1.4],\n",
       "       [6.7, 3. , 5. , 1.7],\n",
       "       [6. , 2.9, 4.5, 1.5],\n",
       "       [5.7, 2.6, 3.5, 1. ],\n",
       "       [5.5, 2.4, 3.8, 1.1],\n",
       "       [5.5, 2.4, 3.7, 1. ],\n",
       "       [5.8, 2.7, 3.9, 1.2],\n",
       "       [6. , 2.7, 5.1, 1.6],\n",
       "       [5.4, 3. , 4.5, 1.5],\n",
       "       [6. , 3.4, 4.5, 1.6],\n",
       "       [6.7, 3.1, 4.7, 1.5],\n",
       "       [6.3, 2.3, 4.4, 1.3],\n",
       "       [5.6, 3. , 4.1, 1.3],\n",
       "       [5.5, 2.5, 4. , 1.3],\n",
       "       [5.5, 2.6, 4.4, 1.2],\n",
       "       [6.1, 3. , 4.6, 1.4],\n",
       "       [5.8, 2.6, 4. , 1.2],\n",
       "       [5. , 2.3, 3.3, 1. ],\n",
       "       [5.6, 2.7, 4.2, 1.3],\n",
       "       [5.7, 3. , 4.2, 1.2],\n",
       "       [5.7, 2.9, 4.2, 1.3],\n",
       "       [6.2, 2.9, 4.3, 1.3],\n",
       "       [5.1, 2.5, 3. , 1.1],\n",
       "       [5.7, 2.8, 4.1, 1.3],\n",
       "       [6.3, 3.3, 6. , 2.5],\n",
       "       [5.8, 2.7, 5.1, 1.9],\n",
       "       [7.1, 3. , 5.9, 2.1],\n",
       "       [6.3, 2.9, 5.6, 1.8],\n",
       "       [6.5, 3. , 5.8, 2.2],\n",
       "       [7.6, 3. , 6.6, 2.1],\n",
       "       [4.9, 2.5, 4.5, 1.7],\n",
       "       [7.3, 2.9, 6.3, 1.8],\n",
       "       [6.7, 2.5, 5.8, 1.8],\n",
       "       [7.2, 3.6, 6.1, 2.5],\n",
       "       [6.5, 3.2, 5.1, 2. ],\n",
       "       [6.4, 2.7, 5.3, 1.9],\n",
       "       [6.8, 3. , 5.5, 2.1],\n",
       "       [5.7, 2.5, 5. , 2. ],\n",
       "       [5.8, 2.8, 5.1, 2.4],\n",
       "       [6.4, 3.2, 5.3, 2.3],\n",
       "       [6.5, 3. , 5.5, 1.8],\n",
       "       [7.7, 3.8, 6.7, 2.2],\n",
       "       [7.7, 2.6, 6.9, 2.3],\n",
       "       [6. , 2.2, 5. , 1.5],\n",
       "       [6.9, 3.2, 5.7, 2.3],\n",
       "       [5.6, 2.8, 4.9, 2. ],\n",
       "       [7.7, 2.8, 6.7, 2. ],\n",
       "       [6.3, 2.7, 4.9, 1.8],\n",
       "       [6.7, 3.3, 5.7, 2.1],\n",
       "       [7.2, 3.2, 6. , 1.8],\n",
       "       [6.2, 2.8, 4.8, 1.8],\n",
       "       [6.1, 3. , 4.9, 1.8],\n",
       "       [6.4, 2.8, 5.6, 2.1],\n",
       "       [7.2, 3. , 5.8, 1.6],\n",
       "       [7.4, 2.8, 6.1, 1.9],\n",
       "       [7.9, 3.8, 6.4, 2. ],\n",
       "       [6.4, 2.8, 5.6, 2.2],\n",
       "       [6.3, 2.8, 5.1, 1.5],\n",
       "       [6.1, 2.6, 5.6, 1.4],\n",
       "       [7.7, 3. , 6.1, 2.3],\n",
       "       [6.3, 3.4, 5.6, 2.4],\n",
       "       [6.4, 3.1, 5.5, 1.8],\n",
       "       [6. , 3. , 4.8, 1.8],\n",
       "       [6.9, 3.1, 5.4, 2.1],\n",
       "       [6.7, 3.1, 5.6, 2.4],\n",
       "       [6.9, 3.1, 5.1, 2.3],\n",
       "       [5.8, 2.7, 5.1, 1.9],\n",
       "       [6.8, 3.2, 5.9, 2.3],\n",
       "       [6.7, 3.3, 5.7, 2.5],\n",
       "       [6.7, 3. , 5.2, 2.3],\n",
       "       [6.3, 2.5, 5. , 1.9],\n",
       "       [6.5, 3. , 5.2, 2. ],\n",
       "       [6.2, 3.4, 5.4, 2.3],\n",
       "       [5.9, 3. , 5.1, 1.8]])"
      ]
     },
     "execution_count": 19,
     "metadata": {},
     "output_type": "execute_result"
    }
   ],
   "source": [
    "X"
   ]
  },
  {
   "cell_type": "code",
   "execution_count": 20,
   "metadata": {},
   "outputs": [
    {
     "data": {
      "text/plain": [
       "array([0, 0, 0, 0, 0, 0, 0, 0, 0, 0, 0, 0, 0, 0, 0, 0, 0, 0, 0, 0, 0, 0,\n",
       "       0, 0, 0, 0, 0, 0, 0, 0, 0, 0, 0, 0, 0, 0, 0, 0, 0, 0, 0, 0, 0, 0,\n",
       "       0, 0, 0, 0, 0, 0, 1, 1, 1, 1, 1, 1, 1, 1, 1, 1, 1, 1, 1, 1, 1, 1,\n",
       "       1, 1, 1, 1, 1, 1, 1, 1, 1, 1, 1, 1, 1, 1, 1, 1, 1, 1, 1, 1, 1, 1,\n",
       "       1, 1, 1, 1, 1, 1, 1, 1, 1, 1, 1, 1, 2, 2, 2, 2, 2, 2, 2, 2, 2, 2,\n",
       "       2, 2, 2, 2, 2, 2, 2, 2, 2, 2, 2, 2, 2, 2, 2, 2, 2, 2, 2, 2, 2, 2,\n",
       "       2, 2, 2, 2, 2, 2, 2, 2, 2, 2, 2, 2, 2, 2, 2, 2, 2, 2], dtype=int64)"
      ]
     },
     "execution_count": 20,
     "metadata": {},
     "output_type": "execute_result"
    }
   ],
   "source": [
    "y"
   ]
  },
  {
   "cell_type": "code",
   "execution_count": 21,
   "metadata": {},
   "outputs": [],
   "source": [
    "from sklearn.model_selection import train_test_split"
   ]
  },
  {
   "cell_type": "code",
   "execution_count": 22,
   "metadata": {},
   "outputs": [],
   "source": [
    "X_train, X_test, y_train, y_test = train_test_split(\n",
    "    X, y, test_size=0.2, random_state=33)"
   ]
  },
  {
   "cell_type": "code",
   "execution_count": 23,
   "metadata": {},
   "outputs": [],
   "source": [
    "# convert to tensors\n",
    "X_train = torch.FloatTensor(X_train)\n",
    "X_test = torch.FloatTensor(X_test)\n",
    "y_train = torch.LongTensor(y_train)\n",
    "y_test = torch.LongTensor(y_test)"
   ]
  },
  {
   "cell_type": "code",
   "execution_count": 24,
   "metadata": {},
   "outputs": [
    {
     "name": "stdout",
     "output_type": "stream",
     "text": [
      "tensor([[5.7000, 2.9000, 4.2000, 1.3000],\n",
      "        [6.7000, 3.1000, 4.4000, 1.4000],\n",
      "        [4.7000, 3.2000, 1.6000, 0.2000]])\n",
      "tensor([1, 1, 0])\n"
     ]
    }
   ],
   "source": [
    "print(X_test[0:3])\n",
    "print(y_test[0:3])"
   ]
  },
  {
   "cell_type": "code",
   "execution_count": 25,
   "metadata": {},
   "outputs": [],
   "source": [
    "criterion = nn.CrossEntropyLoss()\n",
    "optimizer = torch.optim.Adam(model.parameters(),\n",
    "                             lr=0.01)"
   ]
  },
  {
   "cell_type": "code",
   "execution_count": 26,
   "metadata": {},
   "outputs": [
    {
     "name": "stdout",
     "output_type": "stream",
     "text": [
      "Epoch 0 and loss is 1.1507114171981812\n",
      "Epoch 10 and loss is 0.9377315640449524\n",
      "Epoch 20 and loss is 0.7798256278038025\n",
      "Epoch 30 and loss is 0.6099399924278259\n",
      "Epoch 40 and loss is 0.40079933404922485\n",
      "Epoch 50 and loss is 0.25436317920684814\n",
      "Epoch 60 and loss is 0.15053053200244904\n",
      "Epoch 70 and loss is 0.10086944699287415\n",
      "Epoch 80 and loss is 0.08128314465284348\n",
      "Epoch 90 and loss is 0.07231427729129791\n"
     ]
    }
   ],
   "source": [
    "# EPOCHS\n",
    "# AN epoch, 1 run through all the training data\n",
    "\n",
    "epochs = 100\n",
    "losses = []\n",
    "for i in range(epochs):\n",
    "    # Forward a get a prediction\n",
    "    y_pred = model.forward(X_train)\n",
    "    # Calculate loss/error\n",
    "    loss = criterion(y_pred,y_train)\n",
    "    #append the losses\n",
    "    losses.append(loss)\n",
    "    \n",
    "    if i%10==0:\n",
    "        print(f\"Epoch {i} and loss is {loss}\")\n",
    "        \n",
    "    # Backpropogation\n",
    "    optimizer.zero_grad()\n",
    "    loss.backward()\n",
    "    optimizer.step()\n",
    "    "
   ]
  },
  {
   "cell_type": "code",
   "execution_count": 27,
   "metadata": {},
   "outputs": [
    {
     "data": {
      "text/plain": [
       "[tensor(1.1507, grad_fn=<NllLossBackward0>),\n",
       " tensor(1.1167, grad_fn=<NllLossBackward0>),\n",
       " tensor(1.0874, grad_fn=<NllLossBackward0>),\n",
       " tensor(1.0642, grad_fn=<NllLossBackward0>),\n",
       " tensor(1.0432, grad_fn=<NllLossBackward0>),\n",
       " tensor(1.0236, grad_fn=<NllLossBackward0>),\n",
       " tensor(1.0052, grad_fn=<NllLossBackward0>),\n",
       " tensor(0.9890, grad_fn=<NllLossBackward0>),\n",
       " tensor(0.9739, grad_fn=<NllLossBackward0>),\n",
       " tensor(0.9566, grad_fn=<NllLossBackward0>),\n",
       " tensor(0.9377, grad_fn=<NllLossBackward0>),\n",
       " tensor(0.9185, grad_fn=<NllLossBackward0>),\n",
       " tensor(0.9004, grad_fn=<NllLossBackward0>),\n",
       " tensor(0.8845, grad_fn=<NllLossBackward0>),\n",
       " tensor(0.8706, grad_fn=<NllLossBackward0>),\n",
       " tensor(0.8555, grad_fn=<NllLossBackward0>),\n",
       " tensor(0.8389, grad_fn=<NllLossBackward0>),\n",
       " tensor(0.8222, grad_fn=<NllLossBackward0>),\n",
       " tensor(0.8064, grad_fn=<NllLossBackward0>),\n",
       " tensor(0.7924, grad_fn=<NllLossBackward0>),\n",
       " tensor(0.7798, grad_fn=<NllLossBackward0>),\n",
       " tensor(0.7679, grad_fn=<NllLossBackward0>),\n",
       " tensor(0.7559, grad_fn=<NllLossBackward0>),\n",
       " tensor(0.7430, grad_fn=<NllLossBackward0>),\n",
       " tensor(0.7279, grad_fn=<NllLossBackward0>),\n",
       " tensor(0.7112, grad_fn=<NllLossBackward0>),\n",
       " tensor(0.6941, grad_fn=<NllLossBackward0>),\n",
       " tensor(0.6760, grad_fn=<NllLossBackward0>),\n",
       " tensor(0.6566, grad_fn=<NllLossBackward0>),\n",
       " tensor(0.6320, grad_fn=<NllLossBackward0>),\n",
       " tensor(0.6099, grad_fn=<NllLossBackward0>),\n",
       " tensor(0.5897, grad_fn=<NllLossBackward0>),\n",
       " tensor(0.5690, grad_fn=<NllLossBackward0>),\n",
       " tensor(0.5469, grad_fn=<NllLossBackward0>),\n",
       " tensor(0.5237, grad_fn=<NllLossBackward0>),\n",
       " tensor(0.5003, grad_fn=<NllLossBackward0>),\n",
       " tensor(0.4776, grad_fn=<NllLossBackward0>),\n",
       " tensor(0.4565, grad_fn=<NllLossBackward0>),\n",
       " tensor(0.4371, grad_fn=<NllLossBackward0>),\n",
       " tensor(0.4185, grad_fn=<NllLossBackward0>),\n",
       " tensor(0.4008, grad_fn=<NllLossBackward0>),\n",
       " tensor(0.3846, grad_fn=<NllLossBackward0>),\n",
       " tensor(0.3697, grad_fn=<NllLossBackward0>),\n",
       " tensor(0.3546, grad_fn=<NllLossBackward0>),\n",
       " tensor(0.3389, grad_fn=<NllLossBackward0>),\n",
       " tensor(0.3235, grad_fn=<NllLossBackward0>),\n",
       " tensor(0.3092, grad_fn=<NllLossBackward0>),\n",
       " tensor(0.2947, grad_fn=<NllLossBackward0>),\n",
       " tensor(0.2805, grad_fn=<NllLossBackward0>),\n",
       " tensor(0.2672, grad_fn=<NllLossBackward0>),\n",
       " tensor(0.2544, grad_fn=<NllLossBackward0>),\n",
       " tensor(0.2415, grad_fn=<NllLossBackward0>),\n",
       " tensor(0.2293, grad_fn=<NllLossBackward0>),\n",
       " tensor(0.2177, grad_fn=<NllLossBackward0>),\n",
       " tensor(0.2063, grad_fn=<NllLossBackward0>),\n",
       " tensor(0.1955, grad_fn=<NllLossBackward0>),\n",
       " tensor(0.1854, grad_fn=<NllLossBackward0>),\n",
       " tensor(0.1756, grad_fn=<NllLossBackward0>),\n",
       " tensor(0.1668, grad_fn=<NllLossBackward0>),\n",
       " tensor(0.1584, grad_fn=<NllLossBackward0>),\n",
       " tensor(0.1505, grad_fn=<NllLossBackward0>),\n",
       " tensor(0.1435, grad_fn=<NllLossBackward0>),\n",
       " tensor(0.1367, grad_fn=<NllLossBackward0>),\n",
       " tensor(0.1307, grad_fn=<NllLossBackward0>),\n",
       " tensor(0.1252, grad_fn=<NllLossBackward0>),\n",
       " tensor(0.1201, grad_fn=<NllLossBackward0>),\n",
       " tensor(0.1155, grad_fn=<NllLossBackward0>),\n",
       " tensor(0.1113, grad_fn=<NllLossBackward0>),\n",
       " tensor(0.1075, grad_fn=<NllLossBackward0>),\n",
       " tensor(0.1040, grad_fn=<NllLossBackward0>),\n",
       " tensor(0.1009, grad_fn=<NllLossBackward0>),\n",
       " tensor(0.0980, grad_fn=<NllLossBackward0>),\n",
       " tensor(0.0954, grad_fn=<NllLossBackward0>),\n",
       " tensor(0.0931, grad_fn=<NllLossBackward0>),\n",
       " tensor(0.0909, grad_fn=<NllLossBackward0>),\n",
       " tensor(0.0889, grad_fn=<NllLossBackward0>),\n",
       " tensor(0.0871, grad_fn=<NllLossBackward0>),\n",
       " tensor(0.0855, grad_fn=<NllLossBackward0>),\n",
       " tensor(0.0840, grad_fn=<NllLossBackward0>),\n",
       " tensor(0.0826, grad_fn=<NllLossBackward0>),\n",
       " tensor(0.0813, grad_fn=<NllLossBackward0>),\n",
       " tensor(0.0801, grad_fn=<NllLossBackward0>),\n",
       " tensor(0.0790, grad_fn=<NllLossBackward0>),\n",
       " tensor(0.0779, grad_fn=<NllLossBackward0>),\n",
       " tensor(0.0770, grad_fn=<NllLossBackward0>),\n",
       " tensor(0.0761, grad_fn=<NllLossBackward0>),\n",
       " tensor(0.0752, grad_fn=<NllLossBackward0>),\n",
       " tensor(0.0744, grad_fn=<NllLossBackward0>),\n",
       " tensor(0.0737, grad_fn=<NllLossBackward0>),\n",
       " tensor(0.0730, grad_fn=<NllLossBackward0>),\n",
       " tensor(0.0723, grad_fn=<NllLossBackward0>),\n",
       " tensor(0.0717, grad_fn=<NllLossBackward0>),\n",
       " tensor(0.0711, grad_fn=<NllLossBackward0>),\n",
       " tensor(0.0705, grad_fn=<NllLossBackward0>),\n",
       " tensor(0.0700, grad_fn=<NllLossBackward0>),\n",
       " tensor(0.0694, grad_fn=<NllLossBackward0>),\n",
       " tensor(0.0689, grad_fn=<NllLossBackward0>),\n",
       " tensor(0.0685, grad_fn=<NllLossBackward0>),\n",
       " tensor(0.0680, grad_fn=<NllLossBackward0>),\n",
       " tensor(0.0676, grad_fn=<NllLossBackward0>)]"
      ]
     },
     "execution_count": 27,
     "metadata": {},
     "output_type": "execute_result"
    }
   ],
   "source": [
    "losses"
   ]
  },
  {
   "cell_type": "code",
   "execution_count": 28,
   "metadata": {},
   "outputs": [
    {
     "data": {
      "text/plain": [
       "100"
      ]
     },
     "execution_count": 28,
     "metadata": {},
     "output_type": "execute_result"
    }
   ],
   "source": [
    "len(losses)"
   ]
  },
  {
   "cell_type": "code",
   "execution_count": 29,
   "metadata": {},
   "outputs": [],
   "source": [
    "losses_np = [loss.detach().numpy() for loss in losses]"
   ]
  },
  {
   "cell_type": "code",
   "execution_count": 30,
   "metadata": {},
   "outputs": [
    {
     "data": {
      "text/plain": [
       "Text(0.5, 0, 'Epoch')"
      ]
     },
     "execution_count": 30,
     "metadata": {},
     "output_type": "execute_result"
    },
    {
     "data": {
      "image/png": "[encoded data removed]",
      "text/plain": [
       "<Figure size 640x480 with 1 Axes>"
      ]
     },
     "metadata": {},
     "output_type": "display_data"
    }
   ],
   "source": [
    "plt.plot(range(epochs),losses_np)\n",
    "plt.ylabel('LOSS')\n",
    "plt.xlabel('Epoch')\n",
    "# Errors gone down"
   ]
  },
  {
   "cell_type": "code",
   "execution_count": 31,
   "metadata": {},
   "outputs": [],
   "source": [
    "with torch.no_grad():\n",
    "    y_eval = model.forward(X_test)\n",
    "    loss = criterion(y_eval,y_test)"
   ]
  },
  {
   "cell_type": "code",
   "execution_count": 32,
   "metadata": {},
   "outputs": [
    {
     "data": {
      "text/plain": [
       "tensor(0.0581)"
      ]
     },
     "execution_count": 32,
     "metadata": {},
     "output_type": "execute_result"
    }
   ],
   "source": [
    "loss"
   ]
  },
  {
   "cell_type": "code",
   "execution_count": 37,
   "metadata": {},
   "outputs": [
    {
     "name": "stdout",
     "output_type": "stream",
     "text": [
      "1.) tensor([-2.1252,  4.8064, -0.8628]) 1\n",
      "2.) tensor([-1.7985,  5.3098, -1.5449]) 1\n",
      "3.) tensor([  6.3542,   0.8438, -10.0541]) 0\n",
      "4.) tensor([-3.9123,  4.5958,  1.1693]) 1\n",
      "5.) tensor([-7.4713,  3.2021,  5.7853]) 2\n",
      "6.) tensor([-10.4976,   1.6459,   9.6297]) 2\n",
      "7.) tensor([  6.3201,   0.9917, -10.1532]) 0\n",
      "8.) tensor([  7.0468,   0.7059, -10.9137]) 0\n",
      "9.) tensor([-7.2061,  3.3477,  5.3565]) 2\n",
      "10.) tensor([-9.3960,  2.5759,  8.1033]) 2\n",
      "11.) tensor([-9.8808,  2.3475,  8.7141]) 2\n",
      "12.) tensor([ 6.2748,  0.6655, -9.7613]) 0\n",
      "13.) tensor([-9.3142,  2.1880,  8.1947]) 2\n",
      "14.) tensor([-3.7803,  4.5050,  1.0752]) 1\n",
      "15.) tensor([-7.8657,  3.0117,  6.2303]) 2\n",
      "16.) tensor([-1.8867,  5.1572, -1.3345]) 1\n",
      "17.) tensor([-5.7006,  3.5030,  3.6696]) 2\n",
      "18.) tensor([  7.1789,   0.7369, -11.1350]) 0\n",
      "19.) tensor([-3.2944,  4.7931,  0.3475]) 1\n",
      "20.) tensor([-7.7665,  3.7629,  5.7095]) 2\n",
      "21.) tensor([  6.6499,   0.7889, -10.4252]) 0\n",
      "22.) tensor([  7.4357,   0.8918, -11.6600]) 0\n",
      "23.) tensor([-9.7584,  2.1744,  8.6654]) 2\n",
      "24.) tensor([  6.5770,   0.7421, -10.2733]) 0\n",
      "25.) tensor([-7.4144,  2.8719,  5.9445]) 2\n",
      "26.) tensor([-6.1551,  3.4031,  4.2300]) 2\n",
      "27.) tensor([-3.1634,  4.7460,  0.2703]) 1\n",
      "28.) tensor([-1.5446,  4.9031, -1.5557]) 1\n",
      "29.) tensor([-7.4335,  3.1101,  5.7350]) 2\n",
      "30.) tensor([-6.7037,  3.1187,  4.9595]) 2\n",
      "We got 30 correct!\n"
     ]
    }
   ],
   "source": [
    "correct = 0\n",
    "\n",
    "with torch.no_grad():\n",
    "    for i, data in enumerate(X_test):\n",
    "        y_val = model.forward(data)\n",
    "        print(f\"{i+1}.) {str(y_val)} {y_test[i]}\")\n",
    "        \n",
    "        if y_val.argmax().item() == y_test[i]:\n",
    "            correct += 1\n",
    "            \n",
    "print(f\"We got {correct} correct!\")"
   ]
  },
  {
   "cell_type": "code",
   "execution_count": 38,
   "metadata": {},
   "outputs": [],
   "source": [
    "import numpy as np\n",
    "arr = np.array([[1,2],[3,4]])"
   ]
  },
  {
   "cell_type": "code",
   "execution_count": 42,
   "metadata": {},
   "outputs": [
    {
     "name": "stdout",
     "output_type": "stream",
     "text": [
      "3\n",
      "4\n"
     ]
    }
   ],
   "source": [
    "print(arr.argmax().item()) # index\n",
    "print(arr.max().item()) # item"
   ]
  },
  {
   "cell_type": "code",
   "execution_count": 43,
   "metadata": {},
   "outputs": [],
   "source": [
    "# Save the model\n",
    "torch.save(model.state_dict(), 'my_iris_model.pt')"
   ]
  },
  {
   "cell_type": "code",
   "execution_count": 44,
   "metadata": {},
   "outputs": [
    {
     "data": {
      "text/plain": [
       "<All keys matched successfully>"
      ]
     },
     "execution_count": 44,
     "metadata": {},
     "output_type": "execute_result"
    }
   ],
   "source": [
    "# Load the model\n",
    "new_model = Model() # ?? W or B\n",
    "new_model.load_state_dict(torch.load('my_iris_model.pt'))"
   ]
  },
  {
   "cell_type": "code",
   "execution_count": 45,
   "metadata": {},
   "outputs": [
    {
     "data": {
      "text/plain": [
       "Model(\n",
       "  (fc1): Linear(in_features=4, out_features=8, bias=True)\n",
       "  (fc2): Linear(in_features=8, out_features=9, bias=True)\n",
       "  (out): Linear(in_features=9, out_features=3, bias=True)\n",
       ")"
      ]
     },
     "execution_count": 45,
     "metadata": {},
     "output_type": "execute_result"
    }
   ],
   "source": [
    "new_model.eval()  # Check the model"
   ]
  },
  {
   "cell_type": "code",
   "execution_count": 46,
   "metadata": {},
   "outputs": [],
   "source": [
    "# Check with a new data : mystery\n",
    "mystery_iris = torch.tensor([5.6,3.7,2.2,0.5])"
   ]
  },
  {
   "cell_type": "code",
   "execution_count": 51,
   "metadata": {},
   "outputs": [
    {
     "data": {
      "image/png": "[encoded data removed]",
      "text/plain": [
       "<Figure size 640x480 with 2 Axes>"
      ]
     },
     "metadata": {},
     "output_type": "display_data"
    },
    {
     "name": "stdout",
     "output_type": "stream",
     "text": [
      "The mystery flower belongs to category: Iris-setosa\n"
     ]
    }
   ],
   "source": [
    "import torch\n",
    "import matplotlib.pyplot as plt\n",
    "\n",
    "# Make a graph with our old diagram which category\n",
    "# mystery flower belongs to\n",
    "\n",
    "# Get the predicted category for the mystery flower\n",
    "with torch.no_grad():\n",
    "    mystery_pred = new_model.forward(mystery_iris)\n",
    "    category = mystery_pred.argmax().item()\n",
    "\n",
    "# Plot the graph\n",
    "scatter = plt.scatter(df['PetalLengthCm'], df['PetalWidthCm'], c=df['target'])\n",
    "plt.scatter(mystery_iris[2], mystery_iris[3], c='red', \n",
    "            marker='x', label='Mystery Flower')\n",
    "plt.xlabel('Petal Length (cm)')\n",
    "plt.ylabel('Petal Width (cm)')\n",
    "plt.title('Iris Flower Classification')\n",
    "\n",
    "# Add legend\n",
    "legend_labels = ['Iris-setosa', 'Iris-versicolor', 'Iris-virginica']\n",
    "handles, _ = scatter.legend_elements()\n",
    "plt.legend(handles=handles, labels=legend_labels)\n",
    "\n",
    "plt.colorbar()\n",
    "plt.show()\n",
    "\n",
    "# Print the predicted category\n",
    "print(f\"The mystery flower belongs to category: {legend_labels[category]}\")"
   ]
  },
  {
   "cell_type": "code",
   "execution_count": null,
   "metadata": {},
   "outputs": [],
   "source": []
  }
 ],
 "metadata": {
  "kernelspec": {
   "display_name": "langchain_env",
   "language": "python",
   "name": "python3"
  },
  "language_info": {
   "codemirror_mode": {
    "name": "ipython",
    "version": 3
   },
   "file_extension": ".py",
   "mimetype": "text/x-python",
   "name": "python",
   "nbconvert_exporter": "python",
   "pygments_lexer": "ipython3",
   "version": "3.12.1"
  }
 },
 "nbformat": 4,
 "nbformat_minor": 2
}

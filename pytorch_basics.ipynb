{
 "cells": [
  {
   "cell_type": "code",
   "execution_count": 1,
   "metadata": {},
   "outputs": [],
   "source": [
    "import torch"
   ]
  },
  {
   "cell_type": "code",
   "execution_count": 2,
   "metadata": {},
   "outputs": [],
   "source": [
    "import numpy as np"
   ]
  },
  {
   "cell_type": "code",
   "execution_count": 3,
   "metadata": {},
   "outputs": [
    {
     "name": "stdout",
     "output_type": "stream",
     "text": [
      "[0 1 2 3 4 5 6 7 8 9]\n"
     ]
    }
   ],
   "source": [
    "arry = np.arange(10)\n",
    "print(arry)"
   ]
  },
  {
   "cell_type": "code",
   "execution_count": 4,
   "metadata": {},
   "outputs": [],
   "source": [
    "tens_array = torch.tensor(arry)"
   ]
  },
  {
   "cell_type": "code",
   "execution_count": 5,
   "metadata": {},
   "outputs": [
    {
     "name": "stdout",
     "output_type": "stream",
     "text": [
      "tensor([0, 1, 2, 3, 4, 5, 6, 7, 8, 9], dtype=torch.int32)\n"
     ]
    }
   ],
   "source": [
    "print(tens_array)"
   ]
  },
  {
   "cell_type": "code",
   "execution_count": 9,
   "metadata": {},
   "outputs": [],
   "source": [
    "# float tensor\n",
    "f_tens = torch.Tensor(arry)"
   ]
  },
  {
   "cell_type": "markdown",
   "metadata": {},
   "source": [
    "Tensor its a short for FloatTensor."
   ]
  },
  {
   "cell_type": "code",
   "execution_count": 12,
   "metadata": {},
   "outputs": [
    {
     "name": "stdout",
     "output_type": "stream",
     "text": [
      "tensor([0., 1., 2., 3., 4., 5., 6., 7., 8., 9.])\n",
      "torch.float32\n"
     ]
    }
   ],
   "source": [
    "print(f_tens)\n",
    "print(f_tens.dtype)"
   ]
  },
  {
   "cell_type": "code",
   "execution_count": 13,
   "metadata": {},
   "outputs": [],
   "source": [
    "# torch.empty() creates a tensor with uninitialized"
   ]
  },
  {
   "cell_type": "code",
   "execution_count": 16,
   "metadata": {},
   "outputs": [],
   "source": [
    "# torch.seros(4,3,dtype=torch.int64)\n",
    "# torch.ones() creates a tensor with all ones\n",
    "# torch.arage(0,18,2).reshape(3,3) creates a tensor with values from 0 to 18 with step 2 and reshapes it to 3x3\n",
    "# torch.linspace(0,18,12).reshape(3,4) creates a tensor with 12 values from 0 to 18 and reshapes it to 3x4\n",
    "# torch.rand(4,3) creates a tensor with random values between 0 and 1\n",
    "# torch.randn(4,3) creates a tensor with random values from normal distribution\n",
    "# torch.randperm(10) creates a tensor with random permutation of values from 0 to 9\n"
   ]
  },
  {
   "cell_type": "code",
   "execution_count": 26,
   "metadata": {},
   "outputs": [
    {
     "data": {
      "text/plain": [
       "tensor([5, 9, 8, 4, 2, 1, 3, 6, 0, 7])"
      ]
     },
     "execution_count": 26,
     "metadata": {},
     "output_type": "execute_result"
    }
   ],
   "source": [
    "torch.randperm(10)"
   ]
  },
  {
   "cell_type": "code",
   "execution_count": 34,
   "metadata": {},
   "outputs": [
    {
     "name": "stdout",
     "output_type": "stream",
     "text": [
      "tensor([[0, 1],\n",
      "        [2, 3],\n",
      "        [4, 5],\n",
      "        [6, 7],\n",
      "        [8, 9]])\n",
      "torch.Size([5, 2])\n",
      "torch.int64\n"
     ]
    }
   ],
   "source": [
    "n_s = torch.arange(10).reshape(5,-1)\n",
    "print(n_s)\n",
    "print(n_s.size())\n",
    "print(n_s.dtype)"
   ]
  },
  {
   "cell_type": "code",
   "execution_count": 25,
   "metadata": {},
   "outputs": [
    {
     "name": "stdout",
     "output_type": "stream",
     "text": [
      "tensor([0, 1, 2, 3, 4, 5, 6, 7, 8, 9])\n",
      "torch.int64\n",
      "torch.int32\n"
     ]
    }
   ],
   "source": [
    "my_tensor = torch.arange(10)\n",
    "print(my_tensor)\n",
    "print(my_tensor.dtype)\n",
    "# change the dtype\n",
    "my_tensor = my_tensor.type(torch.int32)\n",
    "print(my_tensor.dtype)"
   ]
  },
  {
   "cell_type": "code",
   "execution_count": 35,
   "metadata": {},
   "outputs": [
    {
     "name": "stdout",
     "output_type": "stream",
     "text": [
      "tensor([[-0.5224,  0.2880],\n",
      "        [-0.9685, -2.0447],\n",
      "        [ 1.3158, -0.9422],\n",
      "        [ 2.0601,  0.3527],\n",
      "        [-2.5403, -0.1651]])\n"
     ]
    }
   ],
   "source": [
    "new_dim=torch.randn_like(n_s,dtype=torch.float)\n",
    "print(new_dim)"
   ]
  },
  {
   "cell_type": "code",
   "execution_count": 38,
   "metadata": {},
   "outputs": [
    {
     "data": {
      "text/plain": [
       "tensor([[0.8823, 0.9150, 0.3829],\n",
       "        [0.9593, 0.3904, 0.6009]])"
      ]
     },
     "execution_count": 38,
     "metadata": {},
     "output_type": "execute_result"
    }
   ],
   "source": [
    "torch.manual_seed(42)\n",
    "torch.rand(2,3)"
   ]
  },
  {
   "cell_type": "code",
   "execution_count": 6,
   "metadata": {},
   "outputs": [
    {
     "name": "stdout",
     "output_type": "stream",
     "text": [
      "True\n",
      "NVIDIA GeForce GTX 1650 Ti\n"
     ]
    }
   ],
   "source": [
    "# check card\n",
    "print(torch.cuda.is_available())\n",
    "# card name\n",
    "print(torch.cuda.get_device_name())"
   ]
  },
  {
   "cell_type": "code",
   "execution_count": 10,
   "metadata": {},
   "outputs": [],
   "source": [
    "array_x = torch.tensor(np.arange(10))"
   ]
  },
  {
   "cell_type": "code",
   "execution_count": 13,
   "metadata": {},
   "outputs": [],
   "source": [
    "array_x.device\n",
    "# change to gpu\n",
    "array_x = array_x.to('cuda')"
   ]
  },
  {
   "cell_type": "code",
   "execution_count": 14,
   "metadata": {},
   "outputs": [
    {
     "data": {
      "text/plain": [
       "device(type='cuda', index=0)"
      ]
     },
     "execution_count": 14,
     "metadata": {},
     "output_type": "execute_result"
    }
   ],
   "source": [
    "array_x.device"
   ]
  },
  {
   "cell_type": "code",
   "execution_count": 18,
   "metadata": {},
   "outputs": [],
   "source": [
    "array_x = array_x.reshape(5,2)"
   ]
  },
  {
   "cell_type": "code",
   "execution_count": 34,
   "metadata": {},
   "outputs": [],
   "source": [
    "array_x = torch.tensor(np.arange(10))"
   ]
  },
  {
   "cell_type": "code",
   "execution_count": 35,
   "metadata": {},
   "outputs": [],
   "source": [
    "arr_view = array_x.reshape(2,5)"
   ]
  },
  {
   "cell_type": "code",
   "execution_count": 36,
   "metadata": {},
   "outputs": [],
   "source": [
    "array_x = array_x ** 2"
   ]
  },
  {
   "cell_type": "code",
   "execution_count": 38,
   "metadata": {},
   "outputs": [],
   "source": [
    "arr_view = array_x.reshape(2,5)"
   ]
  },
  {
   "cell_type": "code",
   "execution_count": 39,
   "metadata": {},
   "outputs": [
    {
     "name": "stdout",
     "output_type": "stream",
     "text": [
      "torch.Size([10]) -> torch.Size([2, 5])\n",
      "(1,) -> (5, 1)\n",
      "array_x=tensor([ 0,  1,  4,  9, 16, 25, 36, 49, 64, 81], dtype=torch.int32)\n",
      "arr_view=tensor([[ 0,  1,  4,  9, 16],\n",
      "        [25, 36, 49, 64, 81]], dtype=torch.int32)\n"
     ]
    }
   ],
   "source": [
    "print(f\"{array_x.shape} -> {arr_view.shape}\")\n",
    "print(f\"{array_x.stride()} -> {arr_view.stride()}\")\n",
    "print(f\"{array_x=}\")\n",
    "print(f\"{arr_view=}\")"
   ]
  },
  {
   "cell_type": "code",
   "execution_count": 40,
   "metadata": {},
   "outputs": [
    {
     "name": "stdout",
     "output_type": "stream",
     "text": [
      "tensor([1, 2, 3, 4], dtype=torch.int32)\n",
      "tensor([5, 6, 7, 8], dtype=torch.int32)\n"
     ]
    }
   ],
   "source": [
    "a = torch.tensor(np.arange(1,5))\n",
    "b = torch.tensor(np.arange(5,9))\n",
    "print(a)\n",
    "print(b)"
   ]
  },
  {
   "cell_type": "code",
   "execution_count": 41,
   "metadata": {},
   "outputs": [
    {
     "name": "stdout",
     "output_type": "stream",
     "text": [
      "tensor(70, dtype=torch.int32)\n"
     ]
    }
   ],
   "source": [
    "# dot product\n",
    "dot_prod = torch.dot(a,b)\n",
    "print(dot_prod)"
   ]
  },
  {
   "cell_type": "code",
   "execution_count": 42,
   "metadata": {},
   "outputs": [
    {
     "name": "stdout",
     "output_type": "stream",
     "text": [
      "tensor([[1, 2],\n",
      "        [3, 4]])\n",
      "tensor([[2, 0],\n",
      "        [1, 2]])\n"
     ]
    }
   ],
   "source": [
    "# matrix multiplication\n",
    "a = torch.tensor([[1,2],[3,4]])\n",
    "b = torch.tensor([[2,0],[1,2]])\n",
    "print(a)\n",
    "print(b)"
   ]
  },
  {
   "cell_type": "markdown",
   "metadata": {},
   "source": [
    "[1*2 + 2*1, 1*0 + 2*4],\n",
    "[3*2 + 4*1, 3*0 +4*2]\n",
    "\n",
    "[4, 4]\n",
    "[10, 8]"
   ]
  },
  {
   "cell_type": "code",
   "execution_count": 43,
   "metadata": {},
   "outputs": [
    {
     "data": {
      "text/plain": [
       "tensor([[ 4,  4],\n",
       "        [10,  8]])"
      ]
     },
     "execution_count": 43,
     "metadata": {},
     "output_type": "execute_result"
    }
   ],
   "source": [
    "torch.mm(a,b)"
   ]
  },
  {
   "cell_type": "code",
   "execution_count": 44,
   "metadata": {},
   "outputs": [
    {
     "data": {
      "text/plain": [
       "tensor([[ 4,  4],\n",
       "        [10,  8]])"
      ]
     },
     "execution_count": 44,
     "metadata": {},
     "output_type": "execute_result"
    }
   ],
   "source": [
    "a @ b"
   ]
  },
  {
   "cell_type": "code",
   "execution_count": 45,
   "metadata": {},
   "outputs": [
    {
     "name": "stdout",
     "output_type": "stream",
     "text": [
      "tensor([1, 2, 3, 4, 5, 6, 7, 8, 9], dtype=torch.int32)\n",
      "9\n",
      "torch.Size([9])\n",
      "1\n",
      "9\n"
     ]
    }
   ],
   "source": [
    "# length of elements by numel,size,dim,length\n",
    "a = torch.tensor(np.arange(1,10))\n",
    "print(a)\n",
    "print(a.numel())\n",
    "print(a.size())\n",
    "print(a.dim())\n",
    "print(len(a))"
   ]
  },
  {
   "cell_type": "code",
   "execution_count": 47,
   "metadata": {},
   "outputs": [
    {
     "name": "stdout",
     "output_type": "stream",
     "text": [
      "np_array=array([[1, 2, 3, 4],\n",
      "       [5, 6, 7, 8]])\n"
     ]
    }
   ],
   "source": [
    "np_array = np.array([np.arange(1,5),\n",
    "                    np.arange(5,9)])\n",
    "print(f\"{np_array=}\")"
   ]
  },
  {
   "cell_type": "code",
   "execution_count": 49,
   "metadata": {},
   "outputs": [
    {
     "name": "stdout",
     "output_type": "stream",
     "text": [
      "2\n",
      "8\n",
      "2\n"
     ]
    }
   ],
   "source": [
    "# length of elements by numel,size,dim,length\n",
    "print(len(np_array))\n",
    "print(np_array.size)\n",
    "print(np_array.ndim)"
   ]
  },
  {
   "cell_type": "code",
   "execution_count": null,
   "metadata": {},
   "outputs": [],
   "source": []
  }
 ],
 "metadata": {
  "kernelspec": {
   "display_name": "langchain_env",
   "language": "python",
   "name": "python3"
  },
  "language_info": {
   "codemirror_mode": {
    "name": "ipython",
    "version": 3
   },
   "file_extension": ".py",
   "mimetype": "text/x-python",
   "name": "python",
   "nbconvert_exporter": "python",
   "pygments_lexer": "ipython3",
   "version": "3.12.1"
  }
 },
 "nbformat": 4,
 "nbformat_minor": 2
}

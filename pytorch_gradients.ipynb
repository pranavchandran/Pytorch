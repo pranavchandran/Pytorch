{
 "cells": [
  {
   "cell_type": "code",
   "execution_count": 1,
   "metadata": {},
   "outputs": [],
   "source": [
    "import torch"
   ]
  },
  {
   "cell_type": "markdown",
   "metadata": {},
   "source": [
    "In the context of mathematics and machine learning, a derivative represents the rate at which a function is changing at any given point. It is a fundamental concept in calculus and is used extensively in optimization problems, including those in machine learning and deep learning.\n",
    "\n",
    "### Key Points about Derivatives\n",
    "\n",
    "1. **Definition**: The derivative of a function \\( f(x) \\) at a point \\( x \\) is defined as the limit of the average rate of change of the function over an interval as the interval approaches zero. Mathematically, it is expressed as:\n",
    "   \\[\n",
    "   f'(x) = \\lim_{\\Delta x \\to 0} \\frac{f(x + \\Delta x) - f(x)}{\\Delta x}\n",
    "   \\]\n",
    "\n",
    "2. **Notation**: The derivative of a function \\( f \\) with respect to \\( x \\) can be denoted in several ways:\n",
    "   - \\( f'(x) \\)\n",
    "   - \\( \\frac{df}{dx} \\)\n",
    "   - \\( Df(x) \\)\n",
    "\n",
    "3. **Interpretation**: The derivative represents the slope of the tangent line to the function at a given point. It indicates how the function value changes as the input changes.\n",
    "\n",
    "4. **Applications in Machine Learning**:\n",
    "   - **Gradient Descent**: Derivatives are used to compute gradients, which are essential for optimization algorithms like gradient descent. Gradients indicate the direction and rate of fastest increase of a function.\n",
    "   - **Backpropagation**: In neural networks, derivatives are used in the backpropagation algorithm to compute the gradients of the loss function with respect to the weights, allowing the network to learn by updating the weights.\n",
    "\n",
    "### Example in PyTorch\n",
    "\n",
    "In PyTorch, you can compute derivatives using automatic differentiation. Here's a simple example:\n",
    "\n"
   ]
  },
  {
   "cell_type": "markdown",
   "metadata": {},
   "source": [
    "\n",
    "\n",
    "### Explanation of the Example\n",
    "\n",
    "1. **Define a Tensor**: A tensor `x` is defined with `requires_grad=True`, which tells PyTorch to track all operations on this tensor.\n",
    "2. **Define a Function**: A function \\( y = x^2 \\) is defined.\n",
    "3. **Compute the Derivative**: The `backward()` method computes the derivative of `y` with respect to `x`.\n",
    "4. **Print the Gradient**: The gradient (derivative) of `y` with respect to `x` is printed, which is \\( 4 \\) in this case because the derivative of \\( x^2 \\) is \\( 2x \\), and \\( 2 \\times 2 = 4 \\).\n",
    "\n",
    "This example demonstrates how to compute derivatives using PyTorch, which is a common task in training machine learning models."
   ]
  },
  {
   "cell_type": "code",
   "execution_count": 5,
   "metadata": {},
   "outputs": [
    {
     "name": "stdout",
     "output_type": "stream",
     "text": [
      "tensor(4.)\n"
     ]
    }
   ],
   "source": [
    "import torch\n",
    "\n",
    "# Define a tensor with requires_grad=True to track computations\n",
    "x = torch.tensor(2.0, requires_grad=True)\n",
    "\n",
    "# Define a function y = x^2\n",
    "y = x ** 2\n",
    "g = x ** 3\n",
    "# Compute the derivative of y with respect to x\n",
    "y.backward()\n",
    "\n",
    "# Print the derivative (gradient) of y with respect to x\n",
    "print(x.grad)  # Output: tensor(4.0)"
   ]
  },
  {
   "cell_type": "code",
   "execution_count": 18,
   "metadata": {},
   "outputs": [],
   "source": [
    "import torch"
   ]
  },
  {
   "cell_type": "code",
   "execution_count": 19,
   "metadata": {},
   "outputs": [],
   "source": [
    "x = torch.tensor([[1,2,3,4],[5,6,7,8]], \n",
    "                 requires_grad=True, \n",
    "                 dtype=torch.float32)"
   ]
  },
  {
   "cell_type": "code",
   "execution_count": 20,
   "metadata": {},
   "outputs": [],
   "source": [
    "y = x ** 2"
   ]
  },
  {
   "cell_type": "code",
   "execution_count": 21,
   "metadata": {},
   "outputs": [
    {
     "name": "stdout",
     "output_type": "stream",
     "text": [
      "tensor([[ 1.,  4.,  9., 16.],\n",
      "        [25., 36., 49., 64.]], grad_fn=<PowBackward0>)\n"
     ]
    }
   ],
   "source": [
    "print(y)"
   ]
  },
  {
   "cell_type": "code",
   "execution_count": 22,
   "metadata": {},
   "outputs": [
    {
     "name": "stdout",
     "output_type": "stream",
     "text": [
      "tensor(25.5000, grad_fn=<MeanBackward0>)\n"
     ]
    }
   ],
   "source": [
    "out = y.mean()\n",
    "print(out)"
   ]
  },
  {
   "cell_type": "code",
   "execution_count": 23,
   "metadata": {},
   "outputs": [],
   "source": [
    "out.backward()"
   ]
  },
  {
   "cell_type": "code",
   "execution_count": 25,
   "metadata": {},
   "outputs": [
    {
     "name": "stdout",
     "output_type": "stream",
     "text": [
      "tensor([[1., 2., 3., 4.],\n",
      "        [5., 6., 7., 8.]], requires_grad=True)\n"
     ]
    }
   ],
   "source": [
    "print(x)"
   ]
  },
  {
   "cell_type": "code",
   "execution_count": 26,
   "metadata": {},
   "outputs": [
    {
     "name": "stdout",
     "output_type": "stream",
     "text": [
      "tensor([[0.2500, 0.5000, 0.7500, 1.0000],\n",
      "        [1.2500, 1.5000, 1.7500, 2.0000]])\n"
     ]
    }
   ],
   "source": [
    "print(x.grad)"
   ]
  },
  {
   "cell_type": "code",
   "execution_count": 32,
   "metadata": {},
   "outputs": [
    {
     "name": "stdout",
     "output_type": "stream",
     "text": [
      "The value of e^(-0.3775) is approximately: 0.5525010196895426\n",
      "1.5525\n"
     ]
    }
   ],
   "source": [
    "import math\n",
    "\n",
    "# Define the exponent\n",
    "exponent = -0.5933\n",
    "\n",
    "# Calculate e^(-0.3775)\n",
    "result = math.exp(exponent)\n",
    "\n",
    "# Print the result\n",
    "print(f\"The value of e^(-0.3775) is approximately: {result}\")\n",
    "# add + 1 and round to 4 decimal places\n",
    "res = round(result + 1, 4)\n",
    "print(res)"
   ]
  },
  {
   "cell_type": "code",
   "execution_count": 33,
   "metadata": {},
   "outputs": [
    {
     "name": "stdout",
     "output_type": "stream",
     "text": [
      "The reciprocal of 1.6854 is approximately: 0.5933309600094933\n"
     ]
    }
   ],
   "source": [
    "# Define the number\n",
    "number = 1.6854\n",
    "\n",
    "# Calculate the reciprocal\n",
    "reciprocal = 1 / number\n",
    "\n",
    "# Print the result\n",
    "print(f\"The reciprocal of {number} is approximately: {reciprocal}\")"
   ]
  },
  {
   "cell_type": "code",
   "execution_count": null,
   "metadata": {},
   "outputs": [],
   "source": []
  }
 ],
 "metadata": {
  "kernelspec": {
   "display_name": "langchain_env",
   "language": "python",
   "name": "python3"
  },
  "language_info": {
   "codemirror_mode": {
    "name": "ipython",
    "version": 3
   },
   "file_extension": ".py",
   "mimetype": "text/x-python",
   "name": "python",
   "nbconvert_exporter": "python",
   "pygments_lexer": "ipython3",
   "version": "3.12.1"
  }
 },
 "nbformat": 4,
 "nbformat_minor": 2
}

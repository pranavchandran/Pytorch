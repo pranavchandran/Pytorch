{
 "cells": [
  {
   "cell_type": "code",
   "execution_count": 1,
   "metadata": {},
   "outputs": [],
   "source": [
    "import torch\n",
    "\n",
    "import numpy as np\n",
    "import matplotlib.pyplot as plt"
   ]
  },
  {
   "cell_type": "code",
   "execution_count": 2,
   "metadata": {},
   "outputs": [],
   "source": [
    "import torch.nn as nn"
   ]
  },
  {
   "cell_type": "code",
   "execution_count": 3,
   "metadata": {},
   "outputs": [],
   "source": [
    "X = torch.linspace(1, 50, 50).reshape(-1, 1)"
   ]
  },
  {
   "cell_type": "code",
   "execution_count": 4,
   "metadata": {},
   "outputs": [
    {
     "data": {
      "text/plain": [
       "tensor([[ 1.],\n",
       "        [ 2.],\n",
       "        [ 3.],\n",
       "        [ 4.],\n",
       "        [ 5.],\n",
       "        [ 6.],\n",
       "        [ 7.],\n",
       "        [ 8.],\n",
       "        [ 9.],\n",
       "        [10.],\n",
       "        [11.],\n",
       "        [12.],\n",
       "        [13.],\n",
       "        [14.],\n",
       "        [15.],\n",
       "        [16.],\n",
       "        [17.],\n",
       "        [18.],\n",
       "        [19.],\n",
       "        [20.],\n",
       "        [21.],\n",
       "        [22.],\n",
       "        [23.],\n",
       "        [24.],\n",
       "        [25.],\n",
       "        [26.],\n",
       "        [27.],\n",
       "        [28.],\n",
       "        [29.],\n",
       "        [30.],\n",
       "        [31.],\n",
       "        [32.],\n",
       "        [33.],\n",
       "        [34.],\n",
       "        [35.],\n",
       "        [36.],\n",
       "        [37.],\n",
       "        [38.],\n",
       "        [39.],\n",
       "        [40.],\n",
       "        [41.],\n",
       "        [42.],\n",
       "        [43.],\n",
       "        [44.],\n",
       "        [45.],\n",
       "        [46.],\n",
       "        [47.],\n",
       "        [48.],\n",
       "        [49.],\n",
       "        [50.]])"
      ]
     },
     "execution_count": 4,
     "metadata": {},
     "output_type": "execute_result"
    }
   ],
   "source": [
    "X"
   ]
  },
  {
   "cell_type": "code",
   "execution_count": 5,
   "metadata": {},
   "outputs": [],
   "source": [
    "torch.manual_seed(71)\n",
    "e = torch.randint(-8,9,(50,1),dtype=torch.float)"
   ]
  },
  {
   "cell_type": "code",
   "execution_count": 6,
   "metadata": {},
   "outputs": [
    {
     "data": {
      "text/plain": [
       "tensor([[ 2.],\n",
       "        [ 7.],\n",
       "        [ 2.],\n",
       "        [ 6.],\n",
       "        [ 2.],\n",
       "        [-4.],\n",
       "        [ 2.],\n",
       "        [-5.],\n",
       "        [ 4.],\n",
       "        [ 1.],\n",
       "        [ 2.],\n",
       "        [ 3.],\n",
       "        [ 1.],\n",
       "        [-8.],\n",
       "        [ 5.],\n",
       "        [ 5.],\n",
       "        [-6.],\n",
       "        [ 0.],\n",
       "        [-7.],\n",
       "        [-8.],\n",
       "        [-3.],\n",
       "        [-1.],\n",
       "        [ 2.],\n",
       "        [-6.],\n",
       "        [-3.],\n",
       "        [ 3.],\n",
       "        [ 2.],\n",
       "        [ 3.],\n",
       "        [ 4.],\n",
       "        [ 5.],\n",
       "        [ 1.],\n",
       "        [ 7.],\n",
       "        [ 6.],\n",
       "        [-1.],\n",
       "        [-6.],\n",
       "        [-5.],\n",
       "        [-3.],\n",
       "        [ 7.],\n",
       "        [ 0.],\n",
       "        [ 8.],\n",
       "        [-1.],\n",
       "        [-2.],\n",
       "        [ 2.],\n",
       "        [-8.],\n",
       "        [-1.],\n",
       "        [ 6.],\n",
       "        [-8.],\n",
       "        [-3.],\n",
       "        [-7.],\n",
       "        [-2.]])"
      ]
     },
     "execution_count": 6,
     "metadata": {},
     "output_type": "execute_result"
    }
   ],
   "source": [
    "e"
   ]
  },
  {
   "cell_type": "code",
   "execution_count": 7,
   "metadata": {},
   "outputs": [],
   "source": [
    "y = 2*X + 1 + e"
   ]
  },
  {
   "cell_type": "code",
   "execution_count": 8,
   "metadata": {},
   "outputs": [
    {
     "data": {
      "text/plain": [
       "torch.Size([50, 1])"
      ]
     },
     "execution_count": 8,
     "metadata": {},
     "output_type": "execute_result"
    }
   ],
   "source": [
    "y.shape"
   ]
  },
  {
   "cell_type": "code",
   "execution_count": 9,
   "metadata": {},
   "outputs": [
    {
     "data": {
      "text/plain": [
       "<matplotlib.collections.PathCollection at 0x1c10adf34d0>"
      ]
     },
     "execution_count": 9,
     "metadata": {},
     "output_type": "execute_result"
    },
    {
     "data": {
      "image/png": "[encoded data removed]",
      "text/plain": [
       "<Figure size 640x480 with 1 Axes>"
      ]
     },
     "metadata": {},
     "output_type": "display_data"
    }
   ],
   "source": [
    "plt.scatter(X.numpy(), y.numpy())"
   ]
  },
  {
   "cell_type": "code",
   "execution_count": 10,
   "metadata": {},
   "outputs": [
    {
     "name": "stdout",
     "output_type": "stream",
     "text": [
      "Parameter containing:\n",
      "tensor([[0.1060]], requires_grad=True)\n",
      "Parameter containing:\n",
      "tensor([0.9638], requires_grad=True)\n"
     ]
    }
   ],
   "source": [
    "torch.manual_seed(59)\n",
    "model = nn.Linear(in_features=1, out_features=1)\n",
    "\n",
    "print(model.weight)\n",
    "print(model.bias)"
   ]
  },
  {
   "cell_type": "code",
   "execution_count": 11,
   "metadata": {},
   "outputs": [],
   "source": [
    "class Model(nn.Module):\n",
    "    def __init__(self, in_features, out_features):\n",
    "        super().__init__()\n",
    "        self.linear = nn.Linear(in_features, out_features)\n",
    "        \n",
    "    def forward(self, x):\n",
    "        y_pred = self.linear(x)\n",
    "        return y_pred"
   ]
  },
  {
   "cell_type": "code",
   "execution_count": 12,
   "metadata": {},
   "outputs": [
    {
     "name": "stdout",
     "output_type": "stream",
     "text": [
      "Parameter containing:\n",
      "tensor([[0.1060]], requires_grad=True)\n",
      "Parameter containing:\n",
      "tensor([0.9638], requires_grad=True)\n"
     ]
    }
   ],
   "source": [
    "torch.manual_seed(59)\n",
    "\n",
    "model = Model(1,1)\n",
    "\n",
    "print(model.linear.weight)\n",
    "print(model.linear.bias)\n"
   ]
  },
  {
   "cell_type": "code",
   "execution_count": 13,
   "metadata": {},
   "outputs": [
    {
     "name": "stdout",
     "output_type": "stream",
     "text": [
      "linear.weight \t 0.10597813129425049\n",
      "linear.bias \t 0.9637961387634277\n"
     ]
    }
   ],
   "source": [
    "for name, param in model.named_parameters():\n",
    "    print(name, '\\t', param.item())"
   ]
  },
  {
   "cell_type": "code",
   "execution_count": 14,
   "metadata": {},
   "outputs": [
    {
     "name": "stdout",
     "output_type": "stream",
     "text": [
      "tensor([1.1758], grad_fn=<ViewBackward0>)\n"
     ]
    }
   ],
   "source": [
    "x = torch.tensor([2.0])\n",
    "print(model.forward(x))"
   ]
  },
  {
   "cell_type": "code",
   "execution_count": 15,
   "metadata": {},
   "outputs": [],
   "source": [
    "xq = np.linspace(0,50,50,dtype=float)"
   ]
  },
  {
   "cell_type": "code",
   "execution_count": 16,
   "metadata": {},
   "outputs": [
    {
     "data": {
      "text/plain": [
       "array([0.        , 1.02040816, 2.04081633, 3.06122449, 4.08163265,\n",
       "       5.10204082, 6.12244898, 7.14285714, 8.16326531, 9.18367347])"
      ]
     },
     "execution_count": 16,
     "metadata": {},
     "output_type": "execute_result"
    }
   ],
   "source": [
    "xq[0:10]"
   ]
  },
  {
   "cell_type": "code",
   "execution_count": 17,
   "metadata": {},
   "outputs": [],
   "source": [
    "w1 = 0.1059\n",
    "b1 = 0.9637\n",
    "\n",
    "y1 = w1 * xq * b1"
   ]
  },
  {
   "cell_type": "code",
   "execution_count": 18,
   "metadata": {},
   "outputs": [
    {
     "data": {
      "text/plain": [
       "array([0.        , 0.1041386 , 0.2082772 , 0.31241581, 0.41655441,\n",
       "       0.52069301, 0.62483161, 0.72897021, 0.83310882, 0.93724742,\n",
       "       1.04138602, 1.14552462, 1.24966322, 1.35380183, 1.45794043,\n",
       "       1.56207903, 1.66621763, 1.77035623, 1.87449484, 1.97863344,\n",
       "       2.08277204, 2.18691064, 2.29104924, 2.39518785, 2.49932645,\n",
       "       2.60346505, 2.70760365, 2.81174226, 2.91588086, 3.02001946,\n",
       "       3.12415806, 3.22829666, 3.33243527, 3.43657387, 3.54071247,\n",
       "       3.64485107, 3.74898967, 3.85312828, 3.95726688, 4.06140548,\n",
       "       4.16554408, 4.26968268, 4.37382129, 4.47795989, 4.58209849,\n",
       "       4.68623709, 4.79037569, 4.8945143 , 4.9986529 , 5.1027915 ])"
      ]
     },
     "execution_count": 18,
     "metadata": {},
     "output_type": "execute_result"
    }
   ],
   "source": [
    "y1"
   ]
  },
  {
   "cell_type": "code",
   "execution_count": 19,
   "metadata": {},
   "outputs": [
    {
     "data": {
      "text/plain": [
       "[<matplotlib.lines.Line2D at 0x1c10d059bb0>]"
      ]
     },
     "execution_count": 19,
     "metadata": {},
     "output_type": "execute_result"
    },
    {
     "data": {
      "image/png": "[encoded data removed]",
      "text/plain": [
       "<Figure size 640x480 with 1 Axes>"
      ]
     },
     "metadata": {},
     "output_type": "display_data"
    }
   ],
   "source": [
    "plt.scatter(X.numpy(),y.numpy())\n",
    "plt.plot(xq,y1,'r')"
   ]
  },
  {
   "cell_type": "code",
   "execution_count": 20,
   "metadata": {},
   "outputs": [],
   "source": [
    "criterion = nn.MSELoss()"
   ]
  },
  {
   "cell_type": "code",
   "execution_count": 21,
   "metadata": {},
   "outputs": [],
   "source": [
    "# SGD Mean Squared Error\n",
    "optimizer = torch.optim.SGD(model.parameters(),\n",
    "                            lr=0.001)"
   ]
  },
  {
   "cell_type": "code",
   "execution_count": 32,
   "metadata": {},
   "outputs": [
    {
     "name": "stdout",
     "output_type": "stream",
     "text": [
      "epoch 1 loss: 21.058000564575195 weight: 1.9838191270828247 bias: 1.0557515621185303\n",
      "epoch 2 loss: 21.0574893951416 weight: 1.9837985038757324 bias: 1.0564652681350708\n",
      "epoch 3 loss: 21.056978225708008 weight: 1.9837766885757446 bias: 1.0571786165237427\n",
      "epoch 4 loss: 21.056468963623047 weight: 1.9837559461593628 bias: 1.057891607284546\n",
      "epoch 5 loss: 21.055959701538086 weight: 1.9837344884872437 bias: 1.0586042404174805\n",
      "epoch 6 loss: 21.055458068847656 weight: 1.9837136268615723 bias: 1.0593165159225464\n",
      "epoch 7 loss: 21.054950714111328 weight: 1.9836921691894531 bias: 1.0600284337997437\n",
      "epoch 8 loss: 21.054443359375 weight: 1.9836713075637817 bias: 1.0607401132583618\n",
      "epoch 9 loss: 21.053936004638672 weight: 1.9836499691009521 bias: 1.0614514350891113\n",
      "epoch 10 loss: 21.053434371948242 weight: 1.9836288690567017 bias: 1.0621623992919922\n",
      "epoch 11 loss: 21.05292510986328 weight: 1.9836077690124512 bias: 1.0628730058670044\n",
      "epoch 12 loss: 21.05242156982422 weight: 1.9835866689682007 bias: 1.063583254814148\n",
      "epoch 13 loss: 21.051918029785156 weight: 1.9835655689239502 bias: 1.0642931461334229\n",
      "epoch 14 loss: 21.051414489746094 weight: 1.9835445880889893 bias: 1.065002679824829\n",
      "epoch 15 loss: 21.05091094970703 weight: 1.9835233688354492 bias: 1.0657118558883667\n",
      "epoch 16 loss: 21.050403594970703 weight: 1.9835023880004883 bias: 1.0664207935333252\n",
      "epoch 17 loss: 21.049901962280273 weight: 1.9834812879562378 bias: 1.067129373550415\n",
      "epoch 18 loss: 21.049400329589844 weight: 1.9834601879119873 bias: 1.0678375959396362\n",
      "epoch 19 loss: 21.048898696899414 weight: 1.983439326286316 bias: 1.0685454607009888\n",
      "epoch 20 loss: 21.048398971557617 weight: 1.9834182262420654 bias: 1.0692529678344727\n",
      "epoch 21 loss: 21.047895431518555 weight: 1.9833972454071045 bias: 1.069960117340088\n",
      "epoch 22 loss: 21.04739761352539 weight: 1.983376145362854 bias: 1.0706669092178345\n",
      "epoch 23 loss: 21.046897888183594 weight: 1.9833554029464722 bias: 1.0713733434677124\n",
      "epoch 24 loss: 21.046396255493164 weight: 1.9833341836929321 bias: 1.0720794200897217\n",
      "epoch 25 loss: 21.045900344848633 weight: 1.9833132028579712 bias: 1.0727852582931519\n",
      "epoch 26 loss: 21.0454044342041 weight: 1.9832924604415894 bias: 1.0734907388687134\n",
      "epoch 27 loss: 21.044902801513672 weight: 1.9832712411880493 bias: 1.0741958618164062\n",
      "epoch 28 loss: 21.04440689086914 weight: 1.983250617980957 bias: 1.0749006271362305\n",
      "epoch 29 loss: 21.04391098022461 weight: 1.983229398727417 bias: 1.075605034828186\n",
      "epoch 30 loss: 21.043415069580078 weight: 1.9832086563110352 bias: 1.076309084892273\n",
      "epoch 31 loss: 21.042922973632812 weight: 1.9831876754760742 bias: 1.0770127773284912\n",
      "epoch 32 loss: 21.04242515563965 weight: 1.9831668138504028 bias: 1.0777162313461304\n",
      "epoch 33 loss: 21.041933059692383 weight: 1.9831459522247314 bias: 1.0784193277359009\n",
      "epoch 34 loss: 21.04143714904785 weight: 1.983124852180481 bias: 1.0791220664978027\n",
      "epoch 35 loss: 21.040939331054688 weight: 1.9831042289733887 bias: 1.079824447631836\n",
      "epoch 36 loss: 21.040454864501953 weight: 1.9830831289291382 bias: 1.0805264711380005\n",
      "epoch 37 loss: 21.039960861206055 weight: 1.9830623865127563 bias: 1.0812281370162964\n",
      "epoch 38 loss: 21.03946304321289 weight: 1.9830416440963745 bias: 1.0819294452667236\n",
      "epoch 39 loss: 21.03897476196289 weight: 1.9830206632614136 bias: 1.0826305150985718\n",
      "epoch 40 loss: 21.038484573364258 weight: 1.9829999208450317 bias: 1.0833312273025513\n",
      "epoch 41 loss: 21.03799057006836 weight: 1.9829792976379395 bias: 1.084031581878662\n",
      "epoch 42 loss: 21.037504196166992 weight: 1.9829583168029785 bias: 1.0847315788269043\n",
      "epoch 43 loss: 21.037010192871094 weight: 1.9829375743865967 bias: 1.0854312181472778\n",
      "epoch 44 loss: 21.036518096923828 weight: 1.9829167127609253 bias: 1.0861304998397827\n",
      "epoch 45 loss: 21.036035537719727 weight: 1.982896089553833 bias: 1.0868295431137085\n",
      "epoch 46 loss: 21.035547256469727 weight: 1.982875108718872 bias: 1.0875282287597656\n",
      "epoch 47 loss: 21.035057067871094 weight: 1.9828546047210693 bias: 1.088226556777954\n",
      "epoch 48 loss: 21.034568786621094 weight: 1.982833743095398 bias: 1.088924527168274\n",
      "epoch 49 loss: 21.034082412719727 weight: 1.9828130006790161 bias: 1.089622139930725\n",
      "epoch 50 loss: 21.03359603881836 weight: 1.9827923774719238 bias: 1.0903193950653076\n"
     ]
    }
   ],
   "source": [
    "epochs = 50\n",
    "losses = []\n",
    "\n",
    "for i in range(epochs):\n",
    "    i = i + 1\n",
    "    # Predicting on the forward pass\n",
    "    y_pred = model.forward(X)\n",
    "    # Calculate our loss (error)\n",
    "    loss = criterion(y_pred, y)\n",
    "    # Record that error\n",
    "    losses.append(loss)\n",
    "    print(f\"epoch {i} loss: {loss.item()} weight: {model.linear.weight.item()} bias: {model.linear.bias.item()}\")\n",
    "    optimizer.zero_grad()\n",
    "    loss.backward()\n",
    "    optimizer.step()"
   ]
  },
  {
   "cell_type": "code",
   "execution_count": 29,
   "metadata": {},
   "outputs": [],
   "source": [
    "losses_numpy = [loss.detach().numpy() for loss in losses]"
   ]
  },
  {
   "cell_type": "code",
   "execution_count": 30,
   "metadata": {},
   "outputs": [
    {
     "data": {
      "text/plain": [
       "Text(0.5, 0, 'Epoch')"
      ]
     },
     "execution_count": 30,
     "metadata": {},
     "output_type": "execute_result"
    },
    {
     "data": {
      "image/png": "[encoded data removed]",
      "text/plain": [
       "<Figure size 640x480 with 1 Axes>"
      ]
     },
     "metadata": {},
     "output_type": "display_data"
    }
   ],
   "source": [
    "plt.plot(range(epochs),losses_numpy)\n",
    "plt.ylabel('MSE LOSS')\n",
    "plt.xlabel('Epoch')"
   ]
  },
  {
   "cell_type": "code",
   "execution_count": 34,
   "metadata": {},
   "outputs": [],
   "source": [
    "x = np.linspace(0.0,50.0,50)\n",
    "weight = model.linear.weight.item()\n",
    "bias = model.linear.bias.item()\n",
    "\n",
    "predicted_y = weight * x + bias"
   ]
  },
  {
   "cell_type": "code",
   "execution_count": 33,
   "metadata": {},
   "outputs": [
    {
     "data": {
      "text/plain": [
       "1.982771635055542"
      ]
     },
     "execution_count": 33,
     "metadata": {},
     "output_type": "execute_result"
    }
   ],
   "source": [
    "model.linear.weight.item()"
   ]
  },
  {
   "cell_type": "code",
   "execution_count": 36,
   "metadata": {},
   "outputs": [
    {
     "data": {
      "text/plain": [
       "[<matplotlib.lines.Line2D at 0x1c116ac88f0>]"
      ]
     },
     "execution_count": 36,
     "metadata": {},
     "output_type": "execute_result"
    },
    {
     "data": {
      "image/png": "[encoded data removed]",
      "text/plain": [
       "<Figure size 640x480 with 1 Axes>"
      ]
     },
     "metadata": {},
     "output_type": "display_data"
    }
   ],
   "source": [
    "plt.scatter(X.numpy(),y.numpy())\n",
    "plt.plot(x, predicted_y, 'r')"
   ]
  }
 ],
 "metadata": {
  "kernelspec": {
   "display_name": "langchain_env",
   "language": "python",
   "name": "python3"
  },
  "language_info": {
   "codemirror_mode": {
    "name": "ipython",
    "version": 3
   },
   "file_extension": ".py",
   "mimetype": "text/x-python",
   "name": "python",
   "nbconvert_exporter": "python",
   "pygments_lexer": "ipython3",
   "version": "3.12.1"
  }
 },
 "nbformat": 4,
 "nbformat_minor": 2
}
